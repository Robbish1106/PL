{
  "nbformat": 4,
  "nbformat_minor": 0,
  "metadata": {
    "colab": {
      "provenance": [],
      "collapsed_sections": []
    },
    "kernelspec": {
      "name": "python3",
      "display_name": "Python 3"
    },
    "language_info": {
      "name": "python"
    }
  },
  "cells": [
    {
      "cell_type": "code",
      "source": [
        "import urllib.request as req\n",
        "import json\n",
        "import pandas as pd\n",
        "import numpy\n",
        "\n",
        "#輸入要爬的網頁網址 (這邊的程式碼只適用PTT喔，最好是有標題的那種)\n",
        "url= \"https://www.ptt.cc/bbs/C_Chat/index.html\"\n",
        "\n",
        "#建立一個Request物件，附加Request Headers的資訊 (讓被使用的網頁知道你的作業系統等使用者資訊)\n",
        "request=req.Request(url, headers={\n",
        "    \"User-Agent\":\"Mozilla/5.0 (Windows NT 10.0; Win64; x64) AppleWebKit/537.36 (KHTML, like Gecko) Chrome/106.0.0.0 Safari/537.36\"\n",
        "})"
      ],
      "metadata": {
        "id": "Mf7c38oXpD8h"
      },
      "execution_count": 124,
      "outputs": []
    },
    {
      "cell_type": "code",
      "source": [
        "#將網頁原始碼讀出\n",
        "with req.urlopen(request) as response:\n",
        "    data=response.read().decode(\"utf-8\")"
      ],
      "metadata": {
        "id": "7DzufYskr9jB"
      },
      "execution_count": 125,
      "outputs": []
    },
    {
      "cell_type": "code",
      "source": [
        "#將帶有標題的資料篩出，其他去掉\n",
        "import bs4\n",
        "root=bs4.BeautifulSoup(data, \"html.parser\")\n",
        "titles=root.find_all(\"div\", class_=\"title\")\n",
        "for title in titles:\n",
        "    if title.a !=None:\n",
        "        print(title.a.string)"
      ],
      "metadata": {
        "colab": {
          "base_uri": "https://localhost:8080/"
        },
        "id": "FmD1RYLksJnd",
        "outputId": "edc8bb0a-04c7-4ec4-9a31-b1489bb6cef5"
      },
      "execution_count": 126,
      "outputs": [
        {
          "output_type": "stream",
          "name": "stdout",
          "text": [
            "[閒聊] 藤本樹 實況鏈鋸人\n",
            "[閒聊] 雨隱村的人不會得憂鬱症嗎\n",
            "[無雙] 鮑三娘不好用嗎\n",
            "Re: [閒聊] 修道院的修女們\n",
            "[水星] 我不要\n",
            "[閒聊] 當哪個競技的裁判最危險\n",
            "[Vtub] 不停誇獎你的HIMEHINA ASMR\n",
            "[死神] 亂菊當時在想什麼?\n",
            "[情報] 麻雀放浪記2020 iTunes 特價 NT$90\n",
            "Re: [閒聊] Kson 回家了\n",
            "[閒聊]Snap超能瞬戰上Rank130心得&牌組Pool 2\n",
            "[翻譯] Lycoris Recoil官網秘密設定文件\n",
            "[公告] C_Chat板板規 v.16.8 暨好文補M區\n",
            "[公告] 看板活動公告彙整 ＆ 置底推文閒聊區\n",
            "[22秋] 秋番各作品首播時間\n",
            "[公告] 4-11選舉期間從嚴條款 \n",
            "[名人] 批踢踢推廣中心-看板知名人物題目募集中\n"
          ]
        }
      ]
    },
    {
      "cell_type": "code",
      "source": [
        "#將有效資料放入列表\n",
        "temp = []\n",
        "for title in titles:\n",
        "    if title.a !=None:\n",
        "        temp.append(title.a.string)\n",
        "\n",
        "temp"
      ],
      "metadata": {
        "colab": {
          "base_uri": "https://localhost:8080/"
        },
        "id": "-KUUY8HGvmy1",
        "outputId": "715a4171-fcca-4466-a606-e4f0df0deb84"
      },
      "execution_count": 127,
      "outputs": [
        {
          "output_type": "execute_result",
          "data": {
            "text/plain": [
              "['[閒聊] 藤本樹 實況鏈鋸人',\n",
              " '[閒聊] 雨隱村的人不會得憂鬱症嗎',\n",
              " '[無雙] 鮑三娘不好用嗎',\n",
              " 'Re: [閒聊] 修道院的修女們',\n",
              " '[水星] 我不要',\n",
              " '[閒聊] 當哪個競技的裁判最危險',\n",
              " '[Vtub] 不停誇獎你的HIMEHINA ASMR',\n",
              " '[死神] 亂菊當時在想什麼?',\n",
              " '[情報] 麻雀放浪記2020 iTunes 特價 NT$90',\n",
              " 'Re: [閒聊] Kson 回家了',\n",
              " '[閒聊]Snap超能瞬戰上Rank130心得&牌組Pool 2',\n",
              " '[翻譯] Lycoris Recoil官網秘密設定文件',\n",
              " '[公告] C_Chat板板規 v.16.8 暨好文補M區',\n",
              " '[公告] 看板活動公告彙整 ＆ 置底推文閒聊區',\n",
              " '[22秋] 秋番各作品首播時間',\n",
              " '[公告] 4-11選舉期間從嚴條款 ',\n",
              " '[名人] 批踢踢推廣中心-看板知名人物題目募集中']"
            ]
          },
          "metadata": {},
          "execution_count": 127
        }
      ]
    },
    {
      "cell_type": "code",
      "source": [
        "#把列表轉成dataframe\n",
        "df = pd.DataFrame(temp)\n",
        "print(df)"
      ],
      "metadata": {
        "colab": {
          "base_uri": "https://localhost:8080/"
        },
        "id": "fdew0DrdwYd0",
        "outputId": "744dc9ad-5c6d-40ac-a97f-b03648e9ac47"
      },
      "execution_count": 128,
      "outputs": [
        {
          "output_type": "stream",
          "name": "stdout",
          "text": [
            "                                  0\n",
            "0                    [閒聊] 藤本樹 實況鏈鋸人\n",
            "1                 [閒聊] 雨隱村的人不會得憂鬱症嗎\n",
            "2                      [無雙] 鮑三娘不好用嗎\n",
            "3                  Re: [閒聊] 修道院的修女們\n",
            "4                          [水星] 我不要\n",
            "5                  [閒聊] 當哪個競技的裁判最危險\n",
            "6        [Vtub] 不停誇獎你的HIMEHINA ASMR\n",
            "7                    [死神] 亂菊當時在想什麼?\n",
            "8    [情報] 麻雀放浪記2020 iTunes 特價 NT$90\n",
            "9                 Re: [閒聊] Kson 回家了\n",
            "10  [閒聊]Snap超能瞬戰上Rank130心得&牌組Pool 2\n",
            "11      [翻譯] Lycoris Recoil官網秘密設定文件\n",
            "12     [公告] C_Chat板板規 v.16.8 暨好文補M區\n",
            "13          [公告] 看板活動公告彙整 ＆ 置底推文閒聊區\n",
            "14                  [22秋] 秋番各作品首播時間\n",
            "15               [公告] 4-11選舉期間從嚴條款 \n",
            "16         [名人] 批踢踢推廣中心-看板知名人物題目募集中\n"
          ]
        }
      ]
    },
    {
      "cell_type": "code",
      "source": [
        "#把dataframe轉成csv\n",
        "df.to_csv('CHAT.csv')"
      ],
      "metadata": {
        "id": "mG4lNHb4zHzT"
      },
      "execution_count": 129,
      "outputs": []
    },
    {
      "cell_type": "code",
      "source": [
        "#把dataframe轉成json (有亂碼)\n",
        "df.to_json('CHAT.json')"
      ],
      "metadata": {
        "id": "wCaCRhtt610G"
      },
      "execution_count": 130,
      "outputs": []
    },
    {
      "cell_type": "code",
      "source": [
        "#把dataframe轉成dict\n",
        "temp1 = df.to_dict()\n",
        "temp1"
      ],
      "metadata": {
        "colab": {
          "base_uri": "https://localhost:8080/"
        },
        "id": "lbcSnXi27heO",
        "outputId": "a08bd614-eba4-4ec1-a233-2cbb07d118f5"
      },
      "execution_count": 131,
      "outputs": [
        {
          "output_type": "execute_result",
          "data": {
            "text/plain": [
              "{0: {0: '[閒聊] 藤本樹 實況鏈鋸人',\n",
              "  1: '[閒聊] 雨隱村的人不會得憂鬱症嗎',\n",
              "  2: '[無雙] 鮑三娘不好用嗎',\n",
              "  3: 'Re: [閒聊] 修道院的修女們',\n",
              "  4: '[水星] 我不要',\n",
              "  5: '[閒聊] 當哪個競技的裁判最危險',\n",
              "  6: '[Vtub] 不停誇獎你的HIMEHINA ASMR',\n",
              "  7: '[死神] 亂菊當時在想什麼?',\n",
              "  8: '[情報] 麻雀放浪記2020 iTunes 特價 NT$90',\n",
              "  9: 'Re: [閒聊] Kson 回家了',\n",
              "  10: '[閒聊]Snap超能瞬戰上Rank130心得&牌組Pool 2',\n",
              "  11: '[翻譯] Lycoris Recoil官網秘密設定文件',\n",
              "  12: '[公告] C_Chat板板規 v.16.8 暨好文補M區',\n",
              "  13: '[公告] 看板活動公告彙整 ＆ 置底推文閒聊區',\n",
              "  14: '[22秋] 秋番各作品首播時間',\n",
              "  15: '[公告] 4-11選舉期間從嚴條款 ',\n",
              "  16: '[名人] 批踢踢推廣中心-看板知名人物題目募集中'}}"
            ]
          },
          "metadata": {},
          "execution_count": 131
        }
      ]
    },
    {
      "cell_type": "code",
      "source": [
        "#把dict轉成json (沒有亂碼)\n",
        "with open('CHAT.json','w',encoding='utf-8') as file:\n",
        "    json.dump(temp1,file,ensure_ascii=False)  "
      ],
      "metadata": {
        "id": "JVWuvfGr-igr"
      },
      "execution_count": 132,
      "outputs": []
    }
  ]
}